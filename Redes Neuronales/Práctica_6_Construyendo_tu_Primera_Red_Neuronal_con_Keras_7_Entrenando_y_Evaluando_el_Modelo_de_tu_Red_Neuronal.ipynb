{
  "nbformat": 4,
  "nbformat_minor": 0,
  "metadata": {
    "colab": {
      "provenance": []
    },
    "kernelspec": {
      "name": "python3",
      "display_name": "Python 3"
    },
    "language_info": {
      "name": "python"
    }
  },
  "cells": [
    {
      "cell_type": "markdown",
      "source": [
        "# 6. Construyendo tu Primera Red Neuronal con Keras\n",
        "En esta capítulo se guiará al lector a través del proceso de construcción de su primera red neuronal utilizando la biblioteca Keras. Se explicará cómo cargar y preprocesar conjuntos de datos, construir una arquitectura de red neuronal básica, compilar el modelo y ajustar los datos. Se utilizará el ejemplo de reconocimiento de dígitos utilizando el conjunto de datos FASHION_MNIST.\n",
        "\n",
        "## 6.1. Carga y preprocesamiento de conjuntos de datos\n",
        "\n",
        "El primer paso para construir una red neuronal es obtener los datos con los que entrenaremos a nuestro modelo. En este caso, utilizaremos el conjunto de datos llamado FASHION_MNIST, que contiene imágenes de distintos artículos de moda, como camisetas, pantalones y zapatillas, y es muy popular en el mundo del aprendizaje profundo.\n",
        "\n",
        "### Conceptos clave\n",
        "\n",
        "#### Conjunto de datos\n",
        "Un conjunto de datos es una colección de datos que se utiliza para el entrenamiento, la validación y las pruebas de un modelo. Este conjunto de datos puede ser una mezcla de datos etiquetados y sin etiquetar, y suelen ser necesarios para el entrenamiento supervisado.\n",
        "\n",
        "**Ejemplo:** Supongamos que estás aprendiendo a cocinar. Tus \"datos\" serían las recetas que sigues, y la \"etiqueta\" sería el plato resultante. Así, si tienes una foto del plato final y las instrucciones para cocinarlo, tienes una pieza de \"datos etiquetados\".\n",
        "\n",
        "Para cargar y preprocesar los datos, utilizaremos el siguiente código:"
      ],
      "metadata": {
        "id": "T3wVgu6dDJeY"
      }
    },
    {
      "cell_type": "code",
      "execution_count": 1,
      "metadata": {
        "colab": {
          "base_uri": "https://localhost:8080/",
          "height": 452
        },
        "id": "jgri4hp0Cr8t",
        "outputId": "d68fb63b-5f94-4ebb-c469-26270ad33681"
      },
      "outputs": [
        {
          "output_type": "display_data",
          "data": {
            "text/plain": [
              "<Figure size 640x480 with 1 Axes>"
            ],
            "image/png": "[encoded data removed]"
          },
          "metadata": {}
        }
      ],
      "source": [
        "from keras.datasets import fashion_mnist\n",
        "\n",
        "# Cargamos los datos de Fashion MNIST\n",
        "(train_data, train_labels), (test_data, test_labels) = fashion_mnist.load_data()\n",
        "\n",
        "# Lista de categorías en el conjunto de datos Fashion MNIST\n",
        "fashion_mnist_labels = [\"Camiseta/top\",  # index 0\n",
        "                        \"Pantalón\",      # index 1\n",
        "                        \"Suéter\",        # index 2\n",
        "                        \"Vestido\",       # index 3 \n",
        "                        \"Abrigo\",        # index 4\n",
        "                        \"Sandalia\",      # index 5\n",
        "                        \"Camisa\",        # index 6 \n",
        "                        \"Zapatilla\",     # index 7\n",
        "                        \"Bolso\",         # index 8 \n",
        "                        \"Botín\"]         # index 9\n",
        "\n",
        "import matplotlib.pyplot as plt\n",
        "\n",
        "# Muestra la primera imagen en los datos de entrenamiento\n",
        "plt.imshow(train_data[0])\n",
        "plt.title(fashion_mnist_labels[train_labels[0]])\n",
        "plt.show()"
      ]
    },
    {
      "cell_type": "markdown",
      "source": [
        "## 6.2. Construcción de una arquitectura de red neuronal básica\n",
        "\n",
        "El siguiente paso es definir la arquitectura de nuestra red neuronal. Esta arquitectura es una forma de organizar las neuronas y sus conexiones.\n",
        "\n",
        "### Conceptos clave\n",
        "\n",
        "#### Red Neuronal Artificial\n",
        "Una Red Neuronal Artificial (RNA) es un modelo de aprendizaje automático inspirado en las redes neuronales biológicas. Compuesta por una serie de \"neuronas artificiales\" o nodos, estas redes \"aprenden\" a realizar tareas al considerar ejemplos, generalmente sin estar programadas con reglas específicas para la tarea.\n",
        "\n",
        "**Ejemplo:** Imagina que estás enseñando a un niño a reconocer animales. No le das todas las características que hacen a un perro, un perro. En lugar de eso, le muestras muchas imágenes de perros y le dices: \"esto es un perro\". Con suficientes ejemplos, el niño aprenderá a reconocer los perros incluso si no puede articular las reglas específicas que definen a un perro.\n",
        "\n",
        "Para construir nuestra red neuronal, utilizaremos el siguiente código:"
      ],
      "metadata": {
        "id": "Zp3-Rs7mKi7y"
      }
    },
    {
      "cell_type": "code",
      "source": [
        "from keras import models, layers\n",
        "\n",
        "# Definimos la arquitectura de la red neuronal\n",
        "model = models.Sequential()\n",
        "model.add(layers.Dense(512, activation='relu', input_shape=(28*28,)))\n",
        "model.add(layers.Dense(10, activation='softmax'))"
      ],
      "metadata": {
        "id": "zv5uuud9DXb0"
      },
      "execution_count": 2,
      "outputs": []
    },
    {
      "cell_type": "markdown",
      "source": [
        "## 6.3. Ajuste de datos y entrenamiento del modelo\n",
        "\n",
        "Ahora que tenemos nuestros datos y hemos definido nuestra red, el siguiente paso es ajustar los datos de entrada y entrenar el modelo. En este paso, aprenderás a normalizar los datos para mejorar el rendimiento del modelo y cómo entrenar el modelo utilizando los datos de entrenamiento. También exploraremos cómo ajustar los hiperparámetros para optimizar el proceso de entrenamiento.\n",
        "\n",
        "### Conceptos clave\n",
        "\n",
        "#### Ajuste de datos\n",
        "El ajuste de datos es el proceso de preparar los datos de entrada para el modelo. Esto puede incluir la normalización de los datos, la codificación de las etiquetas, la división de los datos en conjuntos de entrenamiento y prueba, entre otros.\n",
        "\n",
        "**Ejemplo:** Volviendo al ejemplo de aprender a cocinar, ajustar los datos sería como preparar tus ingredientes antes de comenzar a cocinar. Esto podría incluir lavar las verduras, cortar los ingredientes en el tamaño correcto, etc.\n",
        "\n",
        "Para ajustar nuestros datos, utilizaremos el siguiente código:"
      ],
      "metadata": {
        "id": "HN9YqnSFKzvK"
      }
    },
    {
      "cell_type": "code",
      "source": [
        "# Revisamos la forma inicial de los datos\n",
        "print('Forma de los datos de entrenamiento antes del preprocesamiento:', train_data.shape)\n",
        "\n",
        "# Cambiamos la forma de los datos para que puedan ser introducidos en nuestra red neuronal\n",
        "train_data = train_data.reshape([60000, 28*28])\n",
        "test_data = test_data.reshape([10000, 28*28])\n",
        "\n",
        "print('Forma de los datos de entrenamiento después del preprocesamiento:', train_data.shape)\n",
        "\n",
        "# Normalizamos los datos de entrada\n",
        "train_data = train_data.astype('float32') / 255\n",
        "test_data = test_data.astype('float32') / 255\n",
        "\n",
        "# Codificamos nuestras etiquetas de categoría en vectores binarios\n",
        "from keras.utils import to_categorical\n",
        "train_labels = to_categorical(train_labels)\n",
        "test_labels = to_categorical(test_labels)"
      ],
      "metadata": {
        "colab": {
          "base_uri": "https://localhost:8080/"
        },
        "id": "LvPb7t01Dj1z",
        "outputId": "8751feed-ad77-4aa6-a182-e020d131adb9"
      },
      "execution_count": 3,
      "outputs": [
        {
          "output_type": "stream",
          "name": "stdout",
          "text": [
            "Forma de los datos de entrenamiento antes del preprocesamiento: (60000, 28, 28)\n",
            "Forma de los datos de entrenamiento después del preprocesamiento: (60000, 784)\n"
          ]
        }
      ]
    },
    {
      "cell_type": "markdown",
      "source": [
        "## 7. Entrenando y Evaluando el Modelo de tu Red Neuronal\n",
        "En este capítulo se enseñará cómo entrenar y evaluar el modelo de una red neuronal utilizando los datos de entrenamiento y prueba. Se explicará cómo ajustar los datos de entrada, entrenar el modelo con los datos de entrenamiento, y evaluar la precisión del modelo utilizando los datos de prueba.\n",
        "\n",
        "## 7.1. Entrenamiento del modelo con los datos de entrenamiento\n",
        "\n",
        "El entrenamiento es donde alimentamos nuestros datos de entrenamiento al modelo. En este proceso, el modelo intenta aprender patrones útiles en los datos de entrenamiento que le permitirán realizar la tarea en cuestión, como la clasificación de imágenes.\n",
        "\n",
        "### Conceptos clave\n",
        "\n",
        "#### Función de pérdida y Optimizador\n",
        "La función de pérdida es una forma de medir cuán bien se desempeña el modelo en los datos de entrenamiento. Deseamos minimizar esta función para \"guiar\" el modelo en la dirección correcta.\n",
        "\n",
        "El optimizador es el algoritmo que utilizamos para minimizar la función de pérdida. Este algoritmo realiza pequeños ajustes a los pesos y sesgos de la red para mejorar su rendimiento.\n",
        "\n",
        "**Ejemplo:** Puedes imaginar el entrenamiento del modelo como el proceso de aprender a lanzar dardos. Al principio, tus lanzamientos pueden no acertar en el objetivo (alta función de pérdida). Sin embargo, con práctica y ajuste, puedes mejorar tu puntería (minimizar la función de pérdida con un optimizador).\n",
        "\n",
        "Ahora, procedamos a entrenar nuestro modelo utilizando el siguiente código:"
      ],
      "metadata": {
        "id": "Ob-O2ng2LCzy"
      }
    },
    {
      "cell_type": "code",
      "source": [
        "# Definimos el optimizador, la función de pérdida y las métricas que queremos rastrear\n",
        "model.compile(optimizer='rmsprop', \n",
        "              loss='categorical_crossentropy', \n",
        "              metrics=['accuracy'])\n",
        "\n",
        "# Entrenamos el modelo\n",
        "model.fit(train_data, train_labels, epochs=5, batch_size=128)"
      ],
      "metadata": {
        "colab": {
          "base_uri": "https://localhost:8080/"
        },
        "id": "qtlsf-IGEUMD",
        "outputId": "e7b49759-7773-4374-a853-52bd9c41d081"
      },
      "execution_count": 4,
      "outputs": [
        {
          "output_type": "stream",
          "name": "stdout",
          "text": [
            "Epoch 1/5\n",
            "469/469 [==============================] - 10s 20ms/step - loss: 0.5584 - accuracy: 0.8011\n",
            "Epoch 2/5\n",
            "469/469 [==============================] - 10s 21ms/step - loss: 0.3843 - accuracy: 0.8590\n",
            "Epoch 3/5\n",
            "469/469 [==============================] - 6s 12ms/step - loss: 0.3395 - accuracy: 0.8752\n",
            "Epoch 4/5\n",
            "469/469 [==============================] - 5s 10ms/step - loss: 0.3123 - accuracy: 0.8852\n",
            "Epoch 5/5\n",
            "469/469 [==============================] - 5s 11ms/step - loss: 0.2932 - accuracy: 0.8913\n"
          ]
        },
        {
          "output_type": "execute_result",
          "data": {
            "text/plain": [
              "<keras.callbacks.History at 0x7fadea4a0bb0>"
            ]
          },
          "metadata": {},
          "execution_count": 4
        }
      ]
    },
    {
      "cell_type": "markdown",
      "source": [
        "## 7.2. Evaluación de la precisión del modelo con los datos de prueba\n",
        "\n",
        "Después de entrenar nuestro modelo, queremos evaluar qué tan bien se desempeña en datos que nunca ha visto antes, a esto lo llamamos datos de prueba. \n",
        "\n",
        "### Conceptos clave\n",
        "\n",
        "#### Evaluación y Precisión\n",
        "La evaluación es el proceso de verificar qué tan bien se desempeña nuestro modelo en datos que no se utilizaron durante el entrenamiento. La precisión es una medida de cuántas predicciones realizó correctamente el modelo.\n",
        "\n",
        "**Ejemplo:** Volviendo al ejemplo de lanzar dardos, la evaluación sería como participar en un torneo de dardos después de practicar. Tu puntuación en el torneo (precisión) es una medida de qué tan bien has aprendido a lanzar dardos.\n",
        "\n",
        "Podemos evaluar la precisión de nuestro modelo con el siguiente código:"
      ],
      "metadata": {
        "id": "zDao4qzDLqtF"
      }
    },
    {
      "cell_type": "code",
      "source": [
        "# Evaluamos el modelo en los datos de prueba\n",
        "test_loss, test_acc = model.evaluate(test_data, test_labels)\n",
        "print('Test accuracy:', test_acc)"
      ],
      "metadata": {
        "colab": {
          "base_uri": "https://localhost:8080/"
        },
        "id": "x-JSOjGGLpZq",
        "outputId": "b9548b52-6bdc-4764-f35e-d6a926e1e34b"
      },
      "execution_count": 5,
      "outputs": [
        {
          "output_type": "stream",
          "name": "stdout",
          "text": [
            "313/313 [==============================] - 1s 3ms/step - loss: 0.3490 - accuracy: 0.8767\n",
            "Test accuracy: 0.8766999840736389\n"
          ]
        }
      ]
    }
  ]
}