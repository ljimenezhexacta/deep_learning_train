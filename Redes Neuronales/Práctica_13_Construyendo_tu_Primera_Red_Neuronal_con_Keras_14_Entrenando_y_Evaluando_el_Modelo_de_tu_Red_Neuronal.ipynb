{
  "cells": [
    {
      "attachments": {},
      "cell_type": "markdown",
      "metadata": {
        "id": "T3wVgu6dDJeY"
      },
      "source": [
        "# 13. Construyendo tu Primera Red Neuronal con Keras\n",
        "En esta capítulo se guiará al lector a través del proceso de construcción de su primera red neuronal utilizando la biblioteca Keras. Se explicará cómo cargar y preprocesar conjuntos de datos, construir una arquitectura de red neuronal básica, compilar el modelo y ajustar los datos. Se utilizará el ejemplo de reconocimiento de dígitos utilizando el conjunto de datos FASHION_MNIST.\n",
        "\n",
        "## 13.1. Carga del conjuntos de datos\n",
        "\n",
        "El primer paso para construir una red neuronal es obtener los datos con los que entrenaremos a nuestro modelo. En este caso, utilizaremos el conjunto de datos llamado FASHION_MNIST, que contiene imágenes de distintos artículos de moda, como camisetas, pantalones y zapatillas, y es muy popular en el mundo del aprendizaje profundo.\n",
        "\n",
        "### Conceptos clave\n",
        "\n",
        "#### Conjunto de datos\n",
        "Un conjunto de datos es una colección de datos que se utiliza para el entrenamiento, la validación y las pruebas de un modelo. Este conjunto de datos puede ser una mezcla de datos etiquetados y sin etiquetar, y suelen ser necesarios para el entrenamiento supervisado.\n",
        "\n",
        "**Ejemplo:** Supongamos que estás aprendiendo a cocinar. Tus \"datos\" serían las recetas que sigues, y la \"etiqueta\" sería el plato resultante. Así, si tienes una foto del plato final y las instrucciones para cocinarlo, tienes una pieza de \"datos etiquetados\".\n",
        "\n",
        "Para cargar y preprocesar los datos, utilizaremos el siguiente código:"
      ]
    },
    {
      "cell_type": "code",
      "execution_count": 1,
      "metadata": {
        "colab": {
          "base_uri": "https://localhost:8080/",
          "height": 452
        },
        "id": "jgri4hp0Cr8t",
        "outputId": "424bdc8d-438b-435f-f055-eb3fa44a0c88"
      },
      "outputs": [
        {
          "data": {
            "image/png": "[encoded data removed]",
            "text/plain": [
              "<Figure size 640x480 with 1 Axes>"
            ]
          },
          "metadata": {},
          "output_type": "display_data"
        }
      ],
      "source": [
        "from keras.datasets import fashion_mnist\n",
        "\n",
        "# Cargamos los datos de Fashion MNIST\n",
        "(train_data, train_labels), (test_data, test_labels) = fashion_mnist.load_data()\n",
        "\n",
        "# Lista de categorías en el conjunto de datos Fashion MNIST\n",
        "fashion_mnist_labels = [\"Camiseta/top\",  # index 0\n",
        "                        \"Pantalón\",      # index 1\n",
        "                        \"Suéter\",        # index 2\n",
        "                        \"Vestido\",       # index 3 \n",
        "                        \"Abrigo\",        # index 4\n",
        "                        \"Sandalia\",      # index 5\n",
        "                        \"Camisa\",        # index 6 \n",
        "                        \"Zapatilla\",     # index 7\n",
        "                        \"Bolso\",         # index 8 \n",
        "                        \"Botín\"]         # index 9\n",
        "\n",
        "import matplotlib.pyplot as plt\n",
        "\n",
        "# Muestra la primera imagen en los datos de entrenamiento\n",
        "plt.imshow(train_data[0])\n",
        "plt.title(fashion_mnist_labels[train_labels[0]])\n",
        "plt.show()"
      ]
    },
    {
      "attachments": {},
      "cell_type": "markdown",
      "metadata": {
        "id": "Zp3-Rs7mKi7y"
      },
      "source": [
        "## 13.2. Construcción de una arquitectura de red neuronal básica\n",
        "\n",
        "En esta sección, nos centraremos en construir la arquitectura de nuestra red neuronal utilizando Keras. Una red neuronal consiste en una serie de capas, cada una de las cuales tiene múltiples neuronas (nodos). Las capas se conectan entre sí a través de \"pesos\", que son los parámetros que la red aprende durante el entrenamiento.\n",
        "\n",
        "En Keras, la arquitectura de la red se define como una secuencia de capas, que es lo que se conoce como un modelo secuencial.\n",
        "\n",
        "Vamos a construir un modelo simple para ejemplificar:"
      ]
    },
    {
      "cell_type": "code",
      "execution_count": 2,
      "metadata": {
        "id": "zv5uuud9DXb0"
      },
      "outputs": [],
      "source": [
        "from keras import models\n",
        "from keras import layers\n",
        "\n",
        "model = models.Sequential()\n",
        "model.add(layers.Dense(512, activation='relu', input_shape=(28*28,)))\n",
        "model.add(layers.Dense(10, activation='softmax'))"
      ]
    },
    {
      "attachments": {},
      "cell_type": "markdown",
      "metadata": {
        "id": "HN9YqnSFKzvK"
      },
      "source": [
        "Este modelo tiene dos capas. La primera capa es una capa oculta con 512 nodos y la segunda es la capa de salida con 10 nodos. El parámetro `input_shape` en la primera capa define implícitamente nuestra capa de entrada. En este caso, estamos diciendo que cada entrada a la red es un vector de longitud 28*28 (784), lo cual podría representar, por ejemplo, una imagen en escala de grises de 28x28 píxeles aplanada en un vector.\n",
        "\n",
        "En cuanto a las funciones de activación:\n",
        "\n",
        "### Función de activación ReLU\n",
        "\n",
        "La función de activación ReLU (Rectified Linear Unit) es una de las más utilizadas en las capas ocultas de las redes neuronales. Tiene la ventaja de ser capaz de manejar no linealidades, lo cual es esencial para resolver problemas complejos.\n",
        "\n",
        "**Ejemplo:** Imagina que estás tratando de predecir la probabilidad de que llueva en función de una serie de variables como la temperatura, la presión atmosférica y la humedad. Esta es una relación inherentemente no lineal - por ejemplo, la probabilidad de lluvia podría aumentar con la humedad hasta cierto punto, pero luego disminuir si la humedad se vuelve demasiado alta. En este caso, la función ReLU sería útil porque podría capturar estas no linealidades.\n",
        "\n",
        "### Función de activación Softmax\n",
        "\n",
        "La función de activación 'softmax', por otro lado, es comúnmente utilizada en la capa de salida de las redes neuronales que se utilizan para tareas de clasificación multiclase. 'Softmax' transforma las salidas de la red en probabilidades que suman 1. En otras palabras, cada nodo en la capa de salida proporciona la probabilidad de que la entrada pertenezca a una clase específica.\n",
        "\n",
        "**Ejemplo:** Si estás construyendo una red neuronal para reconocer dígitos escritos a mano, la capa de salida podría tener 10 nodos (uno para cada dígito del 0 al 9). El nodo con la salida más alta indicaría el dígito que la red predice.\n",
        "\n",
        "Por último, es importante mencionar que la elección de la función de activación puede variar dependiendo del tipo de problema y de la naturaleza de los datos. Por ejemplo, para problemas de regresión, es común usar la función de activación lineal en la capa de salida. Y en algunos casos, otras funciones de activación como tanh o sigmoid podrían ser más apropiadas para las capas ocultas.\n",
        "\n",
        "## 13.3. Ajuste de datos\n",
        "\n",
        "Ahora que tenemos nuestros datos y hemos definido nuestra red, el siguiente paso es ajustar los datos de entrada. En este paso, aprenderás a normalizar los datos para mejorar el rendimiento del modelo.\n",
        "\n",
        "### Conceptos clave\n",
        "\n",
        "#### Ajuste de datos\n",
        "El ajuste de datos es el proceso de preparar los datos de entrada para el modelo. Esto puede incluir la normalización de los datos, la codificación de las etiquetas, la división de los datos en conjuntos de entrenamiento y prueba, entre otros.\n",
        "\n",
        "**Ejemplo:** Volviendo al ejemplo de aprender a cocinar, ajustar los datos sería como preparar tus ingredientes antes de comenzar a cocinar. Esto podría incluir lavar las verduras, cortar los ingredientes en el tamaño correcto, etc.\n",
        "\n",
        "Para ajustar nuestros datos, utilizaremos el siguiente código:"
      ]
    },
    {
      "cell_type": "code",
      "execution_count": 3,
      "metadata": {
        "colab": {
          "base_uri": "https://localhost:8080/"
        },
        "id": "LvPb7t01Dj1z",
        "outputId": "e61f9c0d-fb0f-4cca-ce4b-d24a85055628"
      },
      "outputs": [
        {
          "name": "stdout",
          "output_type": "stream",
          "text": [
            "Forma de los datos de entrenamiento antes del preprocesamiento: (60000, 28, 28)\n",
            "Forma de los datos de entrenamiento después del preprocesamiento: (60000, 784)\n"
          ]
        }
      ],
      "source": [
        "# Revisamos la forma inicial de los datos\n",
        "print('Forma de los datos de entrenamiento antes del preprocesamiento:', train_data.shape)\n",
        "\n",
        "# Cambiamos la forma de los datos para que puedan ser introducidos en nuestra red neuronal\n",
        "train_data = train_data.reshape([60000, 28*28])\n",
        "test_data = test_data.reshape([10000, 28*28])\n",
        "\n",
        "print('Forma de los datos de entrenamiento después del preprocesamiento:', train_data.shape)\n",
        "\n",
        "# Normalizamos los datos de entrada\n",
        "train_data = train_data.astype('float32') / 255\n",
        "test_data = test_data.astype('float32') / 255\n",
        "\n",
        "# Codificamos nuestras etiquetas de categoría en vectores binarios\n",
        "from keras.utils import to_categorical\n",
        "train_labels = to_categorical(train_labels)\n",
        "test_labels = to_categorical(test_labels)"
      ]
    },
    {
      "attachments": {},
      "cell_type": "markdown",
      "metadata": {
        "id": "Ob-O2ng2LCzy"
      },
      "source": [
        "# 14. Entrenando y Evaluando el Modelo de tu Red Neuronal\n",
        "En este capítulo se enseñará cómo entrenar y evaluar el modelo de una red neuronal utilizando los datos de entrenamiento y prueba. Se explicará cómo entrenar el modelo con los datos de entrenamiento, y evaluar la precisión del modelo utilizando los datos de prueba.\n",
        "\n",
        "## 14.1. Entrenamiento del modelo con los datos de entrenamiento\n",
        "\n",
        "El entrenamiento es donde alimentamos nuestros datos de entrenamiento al modelo. En este proceso, el modelo intenta aprender patrones útiles en los datos de entrenamiento que le permitirán realizar la tarea en cuestión, como la clasificación de imágenes.\n",
        "\n",
        "### Conceptos clave\n",
        "\n",
        "#### Hiperparámetros, Función de pérdida y Optimizador\n",
        "\n",
        "Los hiperparámetros son los parámetros que definimos antes de entrenar el modelo. Estos incluyen el número de épocas (iteraciones completas a través de los datos de entrenamiento), la tasa de aprendizaje (qué tan rápido el modelo aprende), el tamaño del lote (número de muestras de entrenamiento utilizadas en una iteración), entre otros.\n",
        "\n",
        "La función de pérdida es una forma de medir cuán bien se desempeña el modelo en los datos de entrenamiento. Deseamos minimizar esta función para \"guiar\" el modelo en la dirección correcta.\n",
        "\n",
        "El optimizador es el algoritmo que utilizamos para minimizar la función de pérdida. Este algoritmo realiza pequeños ajustes a los pesos y sesgos de la red para mejorar su rendimiento.\n",
        "\n",
        "**Ejemplo:** Puedes imaginar el entrenamiento del modelo como el proceso de aprender a lanzar dardos. Al principio, tus lanzamientos pueden no acertar en el objetivo (alta función de pérdida). Sin embargo, con práctica y ajuste, puedes mejorar tu puntería (minimizar la función de pérdida con un optimizador).\n",
        "\n",
        "### Ajuste de los hiperparámetros\n",
        "\n",
        "Los hiperparámetros son parámetros ajustables que determinan la estrategia de aprendizaje del algoritmo. Por ejemplo, durante el entrenamiento de una red neuronal, podríamos ajustar hiperparámetros como el número de capas en la red, el número de nodos en cada capa, el tipo de optimizador, la tasa de aprendizaje del optimizador, y otros.\n",
        "\n",
        "Ajustar estos hiperparámetros puede tener un gran impacto en el rendimiento de la red neuronal. Sin embargo, encontrar la combinación correcta de hiperparámetros puede ser un desafío. A menudo, los ingenieros de aprendizaje automático realizarán una \"búsqueda de cuadrícula\" o una \"búsqueda aleatoria\" para encontrar la mejor combinación de hiperparámetros.\n",
        "\n",
        "Entonces, procedamos a entrenar nuestro modelo y ajustar los hiperparámetros utilizando el siguiente código:"
      ]
    },
    {
      "cell_type": "code",
      "execution_count": 4,
      "metadata": {
        "colab": {
          "base_uri": "https://localhost:8080/"
        },
        "id": "qtlsf-IGEUMD",
        "outputId": "675adb66-7b71-4399-b1e0-af714a487d6b"
      },
      "outputs": [
        {
          "name": "stdout",
          "output_type": "stream",
          "text": [
            "Epoch 1/10\n",
            "469/469 [==============================] - 11s 20ms/step - loss: 0.9038 - accuracy: 0.7689\n",
            "Epoch 2/10\n",
            "469/469 [==============================] - 10s 20ms/step - loss: 0.4610 - accuracy: 0.8387\n",
            "Epoch 3/10\n",
            "469/469 [==============================] - 7s 14ms/step - loss: 0.4209 - accuracy: 0.8537\n",
            "Epoch 4/10\n",
            "469/469 [==============================] - 5s 10ms/step - loss: 0.4013 - accuracy: 0.8618\n",
            "Epoch 5/10\n",
            "469/469 [==============================] - 5s 10ms/step - loss: 0.3969 - accuracy: 0.8669\n",
            "Epoch 6/10\n",
            "469/469 [==============================] - 6s 13ms/step - loss: 0.3781 - accuracy: 0.8717\n",
            "Epoch 7/10\n",
            "469/469 [==============================] - 5s 10ms/step - loss: 0.3748 - accuracy: 0.8753\n",
            "Epoch 8/10\n",
            "469/469 [==============================] - 6s 13ms/step - loss: 0.3671 - accuracy: 0.8766\n",
            "Epoch 9/10\n",
            "469/469 [==============================] - 5s 10ms/step - loss: 0.3666 - accuracy: 0.8797\n",
            "Epoch 10/10\n",
            "469/469 [==============================] - 5s 11ms/step - loss: 0.3569 - accuracy: 0.8809\n"
          ]
        }
      ],
      "source": [
        "from keras.optimizers import RMSprop\n",
        "\n",
        "# Definimos los hiperparámetros\n",
        "epochs = 10\n",
        "batch_size = 128\n",
        "learning_rate = 0.01\n",
        "\n",
        "# Configuramos el optimizador con la tasa de aprendizaje\n",
        "optimizer = RMSprop(learning_rate=learning_rate)\n",
        "\n",
        "# Definimos el optimizador, la función de pérdida y las métricas que queremos rastrear\n",
        "model.compile(optimizer=optimizer, \n",
        "              loss='categorical_crossentropy', \n",
        "              metrics=['accuracy'])\n",
        "\n",
        "# Entrenamos el modelo\n",
        "history = model.fit(train_data, train_labels, \n",
        "                    epochs=epochs, \n",
        "                    batch_size=batch_size)"
      ]
    },
    {
      "attachments": {},
      "cell_type": "markdown",
      "metadata": {
        "id": "zDao4qzDLqtF"
      },
      "source": [
        "En este ejemplo, hemos definido el número de épocas, el tamaño del lote y la tasa de aprendizaje como nuestros hiperparámetros. Ajustamos la tasa de aprendizaje del optimizador antes de pasarla a la función `compile`. Luego entrenamos el modelo con el método `fit` y guardamos la historia de entrenamiento para futuras referencias.\n",
        "\n",
        "## 14.2. Evaluación de la precisión del modelo con los datos de prueba\n",
        "\n",
        "La evaluación del modelo nos permite medir el rendimiento de nuestro modelo entrenado en un conjunto de datos independiente, conocido como datos de prueba. Durante esta fase, hacemos predicciones con nuestro modelo y luego las comparamos con las etiquetas reales para determinar la precisión de nuestras predicciones. \n",
        "\n",
        "Además, utilizamos diversas métricas de evaluación para obtener una comprensión más detallada del rendimiento de nuestro modelo.\n",
        "\n",
        "### Predicciones del modelo\n",
        "Para realizar predicciones con nuestro modelo, usamos el método `predict()` del modelo. Este método toma una entrada (en nuestro caso, los datos de prueba) y produce una salida (las predicciones)."
      ]
    },
    {
      "cell_type": "code",
      "execution_count": 5,
      "metadata": {
        "colab": {
          "base_uri": "https://localhost:8080/"
        },
        "id": "x-JSOjGGLpZq",
        "outputId": "41756ef0-5fa3-46fe-b7e9-a31a3f61819b"
      },
      "outputs": [
        {
          "name": "stdout",
          "output_type": "stream",
          "text": [
            "313/313 [==============================] - 1s 4ms/step\n"
          ]
        }
      ],
      "source": [
        "# Realizando predicciones\n",
        "predictions = model.predict(test_data)"
      ]
    },
    {
      "attachments": {},
      "cell_type": "markdown",
      "metadata": {
        "id": "tEEyiHtK1fyo"
      },
      "source": [
        "Cada entrada en 'predictions' es un vector de longitud 10 (asumiendo que estamos clasificando imágenes en 10 clases). El índice con el valor más alto es la clase predicha por el modelo.\n",
        "\n",
        "### Comparando con las etiquetas reales\n",
        "Para ver cuán bien se desempeña nuestro modelo, debemos comparar nuestras predicciones con las etiquetas reales. Esto se puede hacer manualmente, o podemos usar la función `argmax()` de NumPy para obtener los índices de las clases predichas y luego compararlos con las etiquetas reales."
      ]
    },
    {
      "cell_type": "code",
      "execution_count": 6,
      "metadata": {
        "colab": {
          "base_uri": "https://localhost:8080/"
        },
        "id": "I7aBwp5z1hcM",
        "outputId": "a2a4ec19-3323-462a-9f19-8cad55aadea8"
      },
      "outputs": [
        {
          "name": "stdout",
          "output_type": "stream",
          "text": [
            "Test accuracy: 0.8575\n"
          ]
        }
      ],
      "source": [
        "import numpy as np\n",
        "\n",
        "# Convertir las predicciones a etiquetas\n",
        "predicted_labels = np.argmax(predictions, axis=1)\n",
        "\n",
        "# Convertir las etiquetas de prueba de one-hot a clases\n",
        "test_labels_classes = np.argmax(test_labels, axis=1)\n",
        "\n",
        "# Comparando con las etiquetas reales\n",
        "accuracy = np.sum(predicted_labels == test_labels_classes) / len(test_labels_classes)\n",
        "print('Test accuracy:', accuracy)"
      ]
    },
    {
      "attachments": {},
      "cell_type": "markdown",
      "metadata": {
        "id": "_CrA2ooD35Im"
      },
      "source": [
        "### Métricas de evaluación\n",
        "Además de la precisión, que simplemente cuenta el porcentaje de clasificaciones correctas, hay otras métricas de evaluación que pueden proporcionarnos más información sobre el rendimiento del modelo. Estas incluyen la precisión (qué proporción de identificaciones positivas fue realmente correcta), el recall (qué proporción de positivos reales se identificó correctamente), la puntuación F1 (una combinación de precisión y recall) y la curva ROC (una representación gráfica del rendimiento del clasificador)."
      ]
    },
    {
      "cell_type": "code",
      "execution_count": 7,
      "metadata": {
        "colab": {
          "base_uri": "https://localhost:8080/"
        },
        "id": "U8K2QVbO38H4",
        "outputId": "ee7b941a-8c81-4253-c0a6-07f25f54d6ae"
      },
      "outputs": [
        {
          "name": "stdout",
          "output_type": "stream",
          "text": [
            "              precision    recall  f1-score   support\n",
            "\n",
            "           0       0.81      0.79      0.80      1000\n",
            "           1       0.99      0.97      0.98      1000\n",
            "           2       0.78      0.72      0.75      1000\n",
            "           3       0.78      0.93      0.85      1000\n",
            "           4       0.82      0.69      0.75      1000\n",
            "           5       0.98      0.92      0.95      1000\n",
            "           6       0.61      0.67      0.64      1000\n",
            "           7       0.92      0.96      0.94      1000\n",
            "           8       0.95      0.97      0.96      1000\n",
            "           9       0.94      0.95      0.95      1000\n",
            "\n",
            "    accuracy                           0.86     10000\n",
            "   macro avg       0.86      0.86      0.86     10000\n",
            "weighted avg       0.86      0.86      0.86     10000\n",
            "\n"
          ]
        }
      ],
      "source": [
        "from sklearn.metrics import classification_report\n",
        "\n",
        "# Convertir las etiquetas de prueba de one-hot a clases\n",
        "test_labels_classes = np.argmax(test_labels, axis=1)\n",
        "\n",
        "# Imprimir el informe de clasificación\n",
        "print(classification_report(test_labels_classes, predicted_labels))"
      ]
    },
    {
      "attachments": {},
      "cell_type": "markdown",
      "metadata": {
        "id": "Nb48Chaw5Vrg"
      },
      "source": [
        "Este informe de clasificación nos dará una visión detallada de cómo se desempeña nuestro modelo en cada clase individualmente, lo que puede ser útil para identificar clases problemáticas que podrían beneficiarse de más datos de entrenamiento o de un ajuste de los hiperparámetros.\n",
        "\n",
        "### Evaluando el modelo\n",
        "La evaluación del modelo es un paso fundamental después de entrenar nuestro modelo. Para ello, usamos el método `evaluate()` del modelo. Esta función devolverá la pérdida del modelo y las métricas de evaluación calculadas para el conjunto de datos de prueba."
      ]
    },
    {
      "cell_type": "code",
      "execution_count": 8,
      "metadata": {
        "colab": {
          "base_uri": "https://localhost:8080/"
        },
        "id": "cRh8Owjj5Wvu",
        "outputId": "04eff63c-235e-4475-ba81-bc5df0047292"
      },
      "outputs": [
        {
          "name": "stdout",
          "output_type": "stream",
          "text": [
            "Test loss: 0.5200059413909912\n",
            "Test accuracy: 0.8575000166893005\n"
          ]
        }
      ],
      "source": [
        "# Evaluación del modelo\n",
        "loss, accuracy = model.evaluate(test_data, test_labels, verbose=0)\n",
        "print('Test loss:', loss)\n",
        "print('Test accuracy:', accuracy)"
      ]
    },
    {
      "attachments": {},
      "cell_type": "markdown",
      "metadata": {
        "id": "crSk2D6R5qLl"
      },
      "source": [
        "En este caso, la pérdida (loss) nos da una medida de cuán incorrectas fueron las predicciones del modelo en promedio, mientras que la precisión (accuracy) nos indica la proporción de imágenes que fueron clasificadas correctamente. Asegúrate de tener en cuenta tanto la pérdida como la precisión al evaluar el rendimiento de tu modelo."
      ]
    }
  ],
  "metadata": {
    "colab": {
      "provenance": []
    },
    "kernelspec": {
      "display_name": "Python 3",
      "name": "python3"
    },
    "language_info": {
      "name": "python"
    }
  },
  "nbformat": 4,
  "nbformat_minor": 0
}
